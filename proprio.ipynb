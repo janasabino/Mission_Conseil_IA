{
 "cells": [
  {
   "cell_type": "markdown",
   "id": "cc65681c",
   "metadata": {},
   "source": [
    "# Importation de la bibliothèque:\n",
    "Pandas pour manipuler et analyser de données."
   ]
  },
  {
   "cell_type": "code",
   "execution_count": 23,
   "id": "0063dfbe",
   "metadata": {},
   "outputs": [],
   "source": [
    "import pandas as pd"
   ]
  },
  {
   "cell_type": "markdown",
   "id": "445157d4",
   "metadata": {},
   "source": [
    "# Python : Création de listes"
   ]
  },
  {
   "cell_type": "code",
   "execution_count": 24,
   "id": "6e5d248a",
   "metadata": {},
   "outputs": [],
   "source": [
    "surname_ls = [\"Navas\",\"Rico\",\"Letellier\",\"Pembele\",\"Kimpembe\",\"Kehrer\",\"Bernhat\",\"Kurzawa\",\"Florenzi\",\"Dagba\",\"Verratti\",\"Paredes\",\"Pereira\",\"Sarabia\",\"Herrera\",\"Draxler\",\"Gueye\",\"Mbappe\",\"Icardi\",\"DiMaria\",\"Kean\"]\n",
    "name_ls = [\"Keylor\",\"Sergio\",\"Alexandre\",\"Timothee\",\"Presnel\",\"Thilo\",\"Juan\",\"Layvin\",\"Alessandro\",\"Colin\",\"Marco\",\"Leandro\",\"Danilo\",\"Pablo\",\"Ander\",\"Julian\",\"Idrissa\",\"Kylian\",\"Mauro\",\"Angel\",\"Moise\"]\n",
    "iban_ls = [\"FR766778965468\",\"FR677855456288\",\"FR987655433567\",\"FR988726555665\",\"FR987665565288\",\"FR766778965434\",\"FR677855456458\",\"FR987655481567\",\"FR988726025665\",\"FR987665565288\",\"FR766778967468\",\"FR682855456288\",\"FR987652933567\",\"FR658726555665\",\"FR987665507288\",\"FR766778945468\",\"FR677095456288\",\"FR987656733567\",\"FR988726555965\",\"FR987617565288\",\"FR987617562688\"]\n",
    "tel_ls= [\"+33909873645\",\"+33678545612\",\"+33756781265\",\"+33467231267\",\"+33178726346\",\"+33234567890\",\"+33145340967\",\"+33329540745\",\"+33658962309\",\"+33754762309\",\"+33276240987\",\"+33624057810\",\"+33745985102\",\"+33909873676\",\"+33678545650\",\"+33756781200\",\"+33467231230\",\"+33178726301\",\"+33234567856\",\"+33145340964\",\"+33329540740\"]\n",
    "email_ls= [\"navas@gmail.com\",\"rico@yahoo.com\",\"letellier@sfr.com\",\"pembele@gmail.com\",\"kimpembe@yahoo.fr\",\"kehrer@hotmail.fr\",\"bernat@gmail.com\",\"kurzawa@yahoo.com\",\"florenzi@hotmail.fr\",\"dagba@gmail.com\",\"verratti@yahoo.fr\",\"paredes@gmail.com\",\"pereira@hotmail.fr\",\"sarabia@yahoo.com\",\"herrera@sfr.fr\",\"draxler@yahoo.com\",\"gueye@gmail.com\",\"mbappe@gmail.com\",\"icardi@yahoo.fr\",\"dimaria@gmail.com\",\"kean@sfr.com\"]\n"
   ]
  },
  {
   "cell_type": "markdown",
   "id": "1faebe7a",
   "metadata": {},
   "source": [
    "# Python : Définition d'une fonction pour toute nouvelle entrée"
   ]
  },
  {
   "cell_type": "code",
   "execution_count": null,
   "id": "21d0d3f5",
   "metadata": {},
   "outputs": [],
   "source": [
    "def new_owner():\n",
    "    surname=input (\"Quel est le nom de famille du propriétaire ? \")\n",
    "    name=input (\"Quel est le prénom du propriétaire?\")\n",
    "    iban=input (\"Quel est l'iban du propriétaire?\") \n",
    "    tel=input (\"Quel est le numéro de téléphone du propriétaire?\")\n",
    "    email=input (\"Quelle est l'adresse email du propriétaire?\")\n",
    "    surname_ls.append(surname)\n",
    "    name_ls.append(name)\n",
    "    iban_ls.append(iban)\n",
    "    tel_ls.append(tel)\n",
    "    email_ls.append(email)\n",
    "    \n"
   ]
  },
  {
   "cell_type": "markdown",
   "id": "4cd37ee6",
   "metadata": {},
   "source": [
    "# Appel à la fonction"
   ]
  },
  {
   "cell_type": "code",
   "execution_count": null,
   "id": "3b322839",
   "metadata": {},
   "outputs": [
    {
     "name": "stdout",
     "output_type": "stream",
     "text": [
      "Quel est le nom de famille du propriétaire ? Dupont\n",
      "Quel est le prénom du propriétaire?Jean\n"
     ]
    }
   ],
   "source": [
    "new_owner()\n"
   ]
  },
  {
   "cell_type": "markdown",
   "id": "9a2763ad",
   "metadata": {},
   "source": [
    "# Création d'un Dataframe à partir de listes"
   ]
  },
  {
   "cell_type": "code",
   "execution_count": 25,
   "id": "dd6ff31a",
   "metadata": {},
   "outputs": [
    {
     "data": {
      "text/html": [
       "<div>\n",
       "<style scoped>\n",
       "    .dataframe tbody tr th:only-of-type {\n",
       "        vertical-align: middle;\n",
       "    }\n",
       "\n",
       "    .dataframe tbody tr th {\n",
       "        vertical-align: top;\n",
       "    }\n",
       "\n",
       "    .dataframe thead th {\n",
       "        text-align: right;\n",
       "    }\n",
       "</style>\n",
       "<table border=\"1\" class=\"dataframe\">\n",
       "  <thead>\n",
       "    <tr style=\"text-align: right;\">\n",
       "      <th></th>\n",
       "      <th>name</th>\n",
       "      <th>surname</th>\n",
       "      <th>iban</th>\n",
       "      <th>tel</th>\n",
       "      <th>email</th>\n",
       "    </tr>\n",
       "  </thead>\n",
       "  <tbody>\n",
       "    <tr>\n",
       "      <th>0</th>\n",
       "      <td>Keylor</td>\n",
       "      <td>Navas</td>\n",
       "      <td>FR766778965468</td>\n",
       "      <td>+33909873645</td>\n",
       "      <td>navas@gmail.com</td>\n",
       "    </tr>\n",
       "    <tr>\n",
       "      <th>1</th>\n",
       "      <td>Sergio</td>\n",
       "      <td>Rico</td>\n",
       "      <td>FR677855456288</td>\n",
       "      <td>+33678545612</td>\n",
       "      <td>rico@yahoo.com</td>\n",
       "    </tr>\n",
       "    <tr>\n",
       "      <th>2</th>\n",
       "      <td>Alexandre</td>\n",
       "      <td>Letellier</td>\n",
       "      <td>FR987655433567</td>\n",
       "      <td>+33756781265</td>\n",
       "      <td>letellier@sfr.com</td>\n",
       "    </tr>\n",
       "    <tr>\n",
       "      <th>3</th>\n",
       "      <td>Timothee</td>\n",
       "      <td>Pembele</td>\n",
       "      <td>FR988726555665</td>\n",
       "      <td>+33467231267</td>\n",
       "      <td>pembele@gmail.com</td>\n",
       "    </tr>\n",
       "    <tr>\n",
       "      <th>4</th>\n",
       "      <td>Presnel</td>\n",
       "      <td>Kimpembe</td>\n",
       "      <td>FR987665565288</td>\n",
       "      <td>+33178726346</td>\n",
       "      <td>kimpembe@yahoo.fr</td>\n",
       "    </tr>\n",
       "    <tr>\n",
       "      <th>5</th>\n",
       "      <td>Thilo</td>\n",
       "      <td>Kehrer</td>\n",
       "      <td>FR766778965434</td>\n",
       "      <td>+33234567890</td>\n",
       "      <td>kehrer@hotmail.fr</td>\n",
       "    </tr>\n",
       "    <tr>\n",
       "      <th>6</th>\n",
       "      <td>Juan</td>\n",
       "      <td>Bernhat</td>\n",
       "      <td>FR677855456458</td>\n",
       "      <td>+33145340967</td>\n",
       "      <td>bernat@gmail.com</td>\n",
       "    </tr>\n",
       "    <tr>\n",
       "      <th>7</th>\n",
       "      <td>Layvin</td>\n",
       "      <td>Kurzawa</td>\n",
       "      <td>FR987655481567</td>\n",
       "      <td>+33329540745</td>\n",
       "      <td>kurzawa@yahoo.com</td>\n",
       "    </tr>\n",
       "    <tr>\n",
       "      <th>8</th>\n",
       "      <td>Alessandro</td>\n",
       "      <td>Florenzi</td>\n",
       "      <td>FR988726025665</td>\n",
       "      <td>+33658962309</td>\n",
       "      <td>florenzi@hotmail.fr</td>\n",
       "    </tr>\n",
       "    <tr>\n",
       "      <th>9</th>\n",
       "      <td>Colin</td>\n",
       "      <td>Dagba</td>\n",
       "      <td>FR987665565288</td>\n",
       "      <td>+33754762309</td>\n",
       "      <td>dagba@gmail.com</td>\n",
       "    </tr>\n",
       "    <tr>\n",
       "      <th>10</th>\n",
       "      <td>Marco</td>\n",
       "      <td>Verratti</td>\n",
       "      <td>FR766778967468</td>\n",
       "      <td>+33276240987</td>\n",
       "      <td>verratti@yahoo.fr</td>\n",
       "    </tr>\n",
       "    <tr>\n",
       "      <th>11</th>\n",
       "      <td>Leandro</td>\n",
       "      <td>Paredes</td>\n",
       "      <td>FR682855456288</td>\n",
       "      <td>+33624057810</td>\n",
       "      <td>paredes@gmail.com</td>\n",
       "    </tr>\n",
       "    <tr>\n",
       "      <th>12</th>\n",
       "      <td>Danilo</td>\n",
       "      <td>Pereira</td>\n",
       "      <td>FR987652933567</td>\n",
       "      <td>+33745985102</td>\n",
       "      <td>pereira@hotmail.fr</td>\n",
       "    </tr>\n",
       "    <tr>\n",
       "      <th>13</th>\n",
       "      <td>Pablo</td>\n",
       "      <td>Sarabia</td>\n",
       "      <td>FR658726555665</td>\n",
       "      <td>+33909873676</td>\n",
       "      <td>sarabia@yahoo.com</td>\n",
       "    </tr>\n",
       "    <tr>\n",
       "      <th>14</th>\n",
       "      <td>Ander</td>\n",
       "      <td>Herrera</td>\n",
       "      <td>FR987665507288</td>\n",
       "      <td>+33678545650</td>\n",
       "      <td>herrera@sfr.fr</td>\n",
       "    </tr>\n",
       "    <tr>\n",
       "      <th>15</th>\n",
       "      <td>Julian</td>\n",
       "      <td>Draxler</td>\n",
       "      <td>FR766778945468</td>\n",
       "      <td>+33756781200</td>\n",
       "      <td>draxler@yahoo.com</td>\n",
       "    </tr>\n",
       "    <tr>\n",
       "      <th>16</th>\n",
       "      <td>Idrissa</td>\n",
       "      <td>Gueye</td>\n",
       "      <td>FR677095456288</td>\n",
       "      <td>+33467231230</td>\n",
       "      <td>gueye@gmail.com</td>\n",
       "    </tr>\n",
       "    <tr>\n",
       "      <th>17</th>\n",
       "      <td>Kylian</td>\n",
       "      <td>Mbappe</td>\n",
       "      <td>FR987656733567</td>\n",
       "      <td>+33178726301</td>\n",
       "      <td>mbappe@gmail.com</td>\n",
       "    </tr>\n",
       "    <tr>\n",
       "      <th>18</th>\n",
       "      <td>Mauro</td>\n",
       "      <td>Icardi</td>\n",
       "      <td>FR988726555965</td>\n",
       "      <td>+33234567856</td>\n",
       "      <td>icardi@yahoo.fr</td>\n",
       "    </tr>\n",
       "    <tr>\n",
       "      <th>19</th>\n",
       "      <td>Angel</td>\n",
       "      <td>DiMaria</td>\n",
       "      <td>FR987617565288</td>\n",
       "      <td>+33145340964</td>\n",
       "      <td>dimaria@gmail.com</td>\n",
       "    </tr>\n",
       "    <tr>\n",
       "      <th>20</th>\n",
       "      <td>Moise</td>\n",
       "      <td>Kean</td>\n",
       "      <td>FR987617562688</td>\n",
       "      <td>+33329540740</td>\n",
       "      <td>kean@sfr.com</td>\n",
       "    </tr>\n",
       "  </tbody>\n",
       "</table>\n",
       "</div>"
      ],
      "text/plain": [
       "          name    surname            iban           tel                email\n",
       "0       Keylor      Navas  FR766778965468  +33909873645      navas@gmail.com\n",
       "1       Sergio       Rico  FR677855456288  +33678545612       rico@yahoo.com\n",
       "2    Alexandre  Letellier  FR987655433567  +33756781265    letellier@sfr.com\n",
       "3     Timothee    Pembele  FR988726555665  +33467231267    pembele@gmail.com\n",
       "4      Presnel   Kimpembe  FR987665565288  +33178726346    kimpembe@yahoo.fr\n",
       "5        Thilo     Kehrer  FR766778965434  +33234567890    kehrer@hotmail.fr\n",
       "6         Juan    Bernhat  FR677855456458  +33145340967     bernat@gmail.com\n",
       "7       Layvin    Kurzawa  FR987655481567  +33329540745    kurzawa@yahoo.com\n",
       "8   Alessandro   Florenzi  FR988726025665  +33658962309  florenzi@hotmail.fr\n",
       "9        Colin      Dagba  FR987665565288  +33754762309      dagba@gmail.com\n",
       "10       Marco   Verratti  FR766778967468  +33276240987    verratti@yahoo.fr\n",
       "11     Leandro    Paredes  FR682855456288  +33624057810    paredes@gmail.com\n",
       "12      Danilo    Pereira  FR987652933567  +33745985102   pereira@hotmail.fr\n",
       "13       Pablo    Sarabia  FR658726555665  +33909873676    sarabia@yahoo.com\n",
       "14       Ander    Herrera  FR987665507288  +33678545650       herrera@sfr.fr\n",
       "15      Julian    Draxler  FR766778945468  +33756781200    draxler@yahoo.com\n",
       "16     Idrissa      Gueye  FR677095456288  +33467231230      gueye@gmail.com\n",
       "17      Kylian     Mbappe  FR987656733567  +33178726301     mbappe@gmail.com\n",
       "18       Mauro     Icardi  FR988726555965  +33234567856      icardi@yahoo.fr\n",
       "19       Angel    DiMaria  FR987617565288  +33145340964    dimaria@gmail.com\n",
       "20       Moise       Kean  FR987617562688  +33329540740         kean@sfr.com"
      ]
     },
     "execution_count": 25,
     "metadata": {},
     "output_type": "execute_result"
    }
   ],
   "source": [
    "owner_df = pd.DataFrame(list(zip(name_ls,surname_ls,iban_ls,tel_ls,email_ls)), columns = ['name','surname','iban','tel','email'])\n",
    "owner_df"
   ]
  },
  {
   "cell_type": "markdown",
   "id": "397a14e4",
   "metadata": {},
   "source": [
    "# Sauvegarde du Dataframe dans un fichier CSV"
   ]
  },
  {
   "cell_type": "code",
   "execution_count": 16,
   "id": "f71cc897",
   "metadata": {},
   "outputs": [],
   "source": [
    "owner_df.to_csv('propriétaires.csv', index=False)"
   ]
  },
  {
   "cell_type": "code",
   "execution_count": null,
   "id": "35eed6b6",
   "metadata": {},
   "outputs": [],
   "source": []
  },
  {
   "cell_type": "code",
   "execution_count": null,
   "id": "1e012f98",
   "metadata": {},
   "outputs": [],
   "source": []
  }
 ],
 "metadata": {
  "kernelspec": {
   "display_name": "Python 3 (ipykernel)",
   "language": "python",
   "name": "python3"
  },
  "language_info": {
   "codemirror_mode": {
    "name": "ipython",
    "version": 3
   },
   "file_extension": ".py",
   "mimetype": "text/x-python",
   "name": "python",
   "nbconvert_exporter": "python",
   "pygments_lexer": "ipython3",
   "version": "3.9.12"
  }
 },
 "nbformat": 4,
 "nbformat_minor": 5
}
